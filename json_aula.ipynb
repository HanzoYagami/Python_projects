{
  "nbformat": 4,
  "nbformat_minor": 0,
  "metadata": {
    "colab": {
      "name": "json_aula.ipynb",
      "provenance": [],
      "authorship_tag": "ABX9TyN25nfMKV9FRpDM6ovUsiwc",
      "include_colab_link": true
    },
    "kernelspec": {
      "name": "python3",
      "display_name": "Python 3"
    },
    "language_info": {
      "name": "python"
    }
  },
  "cells": [
    {
      "cell_type": "markdown",
      "metadata": {
        "id": "view-in-github",
        "colab_type": "text"
      },
      "source": [
        "<a href=\"https://colab.research.google.com/github/HanzoYagami/Python_projects/blob/main/json_aula.ipynb\" target=\"_parent\"><img src=\"https://colab.research.google.com/assets/colab-badge.svg\" alt=\"Open In Colab\"/></a>"
      ]
    },
    {
      "cell_type": "code",
      "execution_count": 12,
      "metadata": {
        "colab": {
          "base_uri": "https://localhost:8080/"
        },
        "id": "_jGNjSy2tJ2a",
        "outputId": "af1c9700-5723-41b6-9f21-7e2168f914e4"
      },
      "outputs": [
        {
          "output_type": "stream",
          "name": "stdout",
          "text": [
            "<Response [200]>\n",
            "{'USDBRL': {'code': 'USD', 'codein': 'BRL', 'name': 'Dólar Americano/Real Brasileiro', 'high': '5.1491', 'low': '5.0459', 'varBid': '-0.0722', 'pctChange': '-1.41', 'bid': '5.0612', 'ask': '5.0623', 'timestamp': '1652475593', 'create_date': '2022-05-13 17:59:53'}, 'EURBRL': {'code': 'EUR', 'codein': 'BRL', 'name': 'Euro/Real Brasileiro', 'high': '5.3501', 'low': '5.2504', 'varBid': '-0.0577', 'pctChange': '-1.08', 'bid': '5.2692', 'ask': '5.2724', 'timestamp': '1652475595', 'create_date': '2022-05-13 17:59:55'}, 'BTCBRL': {'code': 'BTC', 'codein': 'BRL', 'name': 'Bitcoin/Real Brasileiro', 'high': '154.9', 'low': '146.933', 'varBid': '913', 'pctChange': '0.6', 'bid': '151.772', 'ask': '151.892', 'timestamp': '1652586054', 'create_date': '2022-05-15 00:40:54'}}\n",
            "5.0612\n"
          ]
        }
      ],
      "source": [
        "\n",
        "#essencial para dicionarios em python\n",
        "#formatode texto para dicionarios em python\n",
        "#java script obeject notation\n",
        "import requests \n",
        "r=requests.get(' https://economia.awesomeapi.com.br/last/USD-BRL,EUR-BRL,BTC-BRL')\n",
        "print(r)\n",
        "print(r.json())\n",
        "dict_request=r.json()\n",
        "print(dict_request['USDBRL']['bid'])"
      ]
    }
  ]
}