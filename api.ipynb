{
  "nbformat": 4,
  "nbformat_minor": 0,
  "metadata": {
    "colab": {
      "name": "api.ipynb",
      "provenance": [],
      "authorship_tag": "ABX9TyNVFDlScKD4mJUsSYblBRbJ",
      "include_colab_link": true
    },
    "kernelspec": {
      "name": "python3",
      "display_name": "Python 3"
    },
    "language_info": {
      "name": "python"
    }
  },
  "cells": [
    {
      "cell_type": "markdown",
      "metadata": {
        "id": "view-in-github",
        "colab_type": "text"
      },
      "source": [
        "<a href=\"https://colab.research.google.com/github/HanzoYagami/Python_projects/blob/main/api.ipynb\" target=\"_parent\"><img src=\"https://colab.research.google.com/assets/colab-badge.svg\" alt=\"Open In Colab\"/></a>"
      ]
    },
    {
      "cell_type": "code",
      "execution_count": 3,
      "metadata": {
        "colab": {
          "base_uri": "https://localhost:8080/"
        },
        "id": "2qeNdyG39yCO",
        "outputId": "0ce41a20-c392-49bd-b22a-5a31ba8c0964"
      },
      "outputs": [
        {
          "output_type": "stream",
          "name": "stdout",
          "text": [
            "<Response [200]>\n"
          ]
        }
      ],
      "source": [
        "#api para cadastro, atraves de sua conta no facebook\n",
        "\n",
        "import requests\n",
        "f= requests.get('https://www.facebook.com/?stype=lo&jlou=AfdRYnv6BcKgThAOR6z6jG2dMv_VAlDJZMyCq1Rj37bpmo7IOKmrmCfRdgpjK_6jnY6jbmnswua4BTGz8teiTJKALM27jxghyZ5MwwVzRVr8Ng&smuh=15929&lh=Ac-qG5_kz9EbJ2rVqqk')\n",
        "print(f)"
      ]
    },
    {
      "cell_type": "code",
      "source": [
        "#api para cadstro, atrves de seu email\n",
        "import requests\n",
        "mail= requests.get('https://mail.google.com/mail/u/0/#inbox')\n",
        "print(mail)"
      ],
      "metadata": {
        "colab": {
          "base_uri": "https://localhost:8080/"
        },
        "id": "IBpgYz2V_Cpc",
        "outputId": "631aaaed-91d9-4c71-a399-5feff70ee338"
      },
      "execution_count": 4,
      "outputs": [
        {
          "output_type": "stream",
          "name": "stdout",
          "text": [
            "<Response [200]>\n"
          ]
        }
      ]
    }
  ]
}