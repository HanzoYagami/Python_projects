{
  "nbformat": 4,
  "nbformat_minor": 0,
  "metadata": {
    "colab": {
      "name": "Untitled11.ipynb",
      "provenance": [],
      "collapsed_sections": [],
      "authorship_tag": "ABX9TyNqF0+/9PKD7283nbsEVtsu",
      "include_colab_link": true
    },
    "kernelspec": {
      "name": "python3",
      "display_name": "Python 3"
    },
    "language_info": {
      "name": "python"
    }
  },
  "cells": [
    {
      "cell_type": "markdown",
      "metadata": {
        "id": "view-in-github",
        "colab_type": "text"
      },
      "source": [
        "<a href=\"https://colab.research.google.com/github/HanzoYagami/Python_projects/blob/main/Untitled11.ipynb\" target=\"_parent\"><img src=\"https://colab.research.google.com/assets/colab-badge.svg\" alt=\"Open In Colab\"/></a>"
      ]
    },
    {
      "cell_type": "code",
      "execution_count": 1,
      "metadata": {
        "colab": {
          "base_uri": "https://localhost:8080/"
        },
        "id": "6MVuPuhuaTtc",
        "outputId": "cb42f870-0d57-468c-9e44-dc8a549f88dc"
      },
      "outputs": [
        {
          "output_type": "stream",
          "name": "stdout",
          "text": [
            "<Response [200]>\n",
            "{'USDBRL': {'code': 'USD', 'codein': 'BRL', 'name': 'Dólar Americano/Real Brasileiro', 'high': '5.1491', 'low': '5.0459', 'varBid': '-0.0722', 'pctChange': '-1.41', 'bid': '5.0612', 'ask': '5.0623', 'timestamp': '1652475593', 'create_date': '2022-05-13 17:59:53'}, 'EURBRL': {'code': 'EUR', 'codein': 'BRL', 'name': 'Euro/Real Brasileiro', 'high': '5.3501', 'low': '5.2504', 'varBid': '-0.0084', 'pctChange': '-0.16', 'bid': '5.259', 'ask': '5.2614', 'timestamp': '1652646492', 'create_date': '2022-05-15 17:28:12'}, 'BTCBRL': {'code': 'BTC', 'codein': 'BRL', 'name': 'Bitcoin/Real Brasileiro', 'high': '158', 'low': '150.209', 'varBid': '7037', 'pctChange': '4.66', 'bid': '157.887', 'ask': '157.993', 'timestamp': '1652646374', 'create_date': '2022-05-15 17:26:14'}}\n"
          ]
        }
      ],
      "source": [
        "import requests\n",
        "url=requests.get(' https://economia.awesomeapi.com.br/last/USD-BRL,EUR-BRL,BTC-BRL')\n",
        "print(url)\n",
        "print(url.json())\n",
        "\n"
      ]
    },
    {
      "cell_type": "code",
      "source": [
        "if url.status_code==200:\n",
        "  valor_dolar=url.json()[\"USDBRL\"][\"bid\"]\n",
        "  print(f'A cotação do dolar {valor_dolar}')\n",
        "else:\n",
        "  print('Erro. Tente novamente')"
      ],
      "metadata": {
        "colab": {
          "base_uri": "https://localhost:8080/"
        },
        "id": "g9GR01qra8pY",
        "outputId": "52734035-ddc0-456d-e94d-131f20556367"
      },
      "execution_count": 3,
      "outputs": [
        {
          "output_type": "stream",
          "name": "stdout",
          "text": [
            "A cotação do dolar 5.0612\n"
          ]
        }
      ]
    }
  ]
}