{
  "nbformat": 4,
  "nbformat_minor": 0,
  "metadata": {
    "colab": {
      "name": "banco_dados_api.ipynb",
      "provenance": [],
      "collapsed_sections": [],
      "authorship_tag": "ABX9TyPLfas/bnI9D8VeQoG1BXN1",
      "include_colab_link": true
    },
    "kernelspec": {
      "name": "python3",
      "display_name": "Python 3"
    },
    "language_info": {
      "name": "python"
    }
  },
  "cells": [
    {
      "cell_type": "markdown",
      "metadata": {
        "id": "view-in-github",
        "colab_type": "text"
      },
      "source": [
        "<a href=\"https://colab.research.google.com/github/HanzoYagami/Python_projects/blob/main/banco_dados_api.ipynb\" target=\"_parent\"><img src=\"https://colab.research.google.com/assets/colab-badge.svg\" alt=\"Open In Colab\"/></a>"
      ]
    },
    {
      "cell_type": "code",
      "source": [
        "import requests \n",
        "#get,acessa informaçoes de dominio\n",
        "\n",
        "banco_dados=requests.get('https://bancodaddos-default-rtdb.firebaseio.com/.json')\n",
        "print(banco_dados)\n",
        "print(banco_dados.json())\n"
      ],
      "metadata": {
        "colab": {
          "base_uri": "https://localhost:8080/"
        },
        "id": "Xlm0PAClAC3_",
        "outputId": "dfecc737-2298-4d2f-8da8-3a6ebacbc10a"
      },
      "execution_count": 20,
      "outputs": [
        {
          "output_type": "stream",
          "name": "stdout",
          "text": [
            "<Response [200]>\n",
            "[None, {'idade': 18, 'nome': 'Ollie', 'sexo': 'masculino', 'sobrenome': 'blake'}]\n"
          ]
        }
      ]
    },
    {
      "cell_type": "code",
      "source": [
        "#post cria informaçoes\n",
        "infos='{\"nome\":\"lawly\"}'\n",
        "banco_dados= requests.post('https://bancodaddos-default-rtdb.firebaseio.com/.json',data=infos)\n",
        "print(banco_dados)\n",
        "print(banco_dados.json())\n",
        "\n"
      ],
      "metadata": {
        "colab": {
          "base_uri": "https://localhost:8080/"
        },
        "id": "Ie4ddprMevOc",
        "outputId": "65c0630f-7ece-4d0e-b3cb-294d982d9327"
      },
      "execution_count": 26,
      "outputs": [
        {
          "output_type": "stream",
          "name": "stdout",
          "text": [
            "<Response [200]>\n",
            "{'name': '-N24bCMiEiPain43nP8O'}\n"
          ]
        }
      ]
    },
    {
      "cell_type": "code",
      "source": [
        "#patch, atualiza/edita informaçoes\n",
        "infos='{\"nome\":\"lawly\",\"sobrenome\":\"yagami\",\"idade\":\"14\",\"sexo\":\"masculino\"}'\n",
        "banco_dados= requests.patch('https://bancodaddos-default-rtdb.firebaseio.com/-N24bCMiEiPain43nP8O.json',data=infos)\n",
        "print(banco_dados)\n",
        "print(banco_dados.json())\n"
      ],
      "metadata": {
        "colab": {
          "base_uri": "https://localhost:8080/"
        },
        "id": "2QFHzBvonVWy",
        "outputId": "05b1c044-5f5e-41d7-da7b-b89be17d3567"
      },
      "execution_count": 27,
      "outputs": [
        {
          "output_type": "stream",
          "name": "stdout",
          "text": [
            "<Response [200]>\n",
            "{'nome': 'lawly', 'sobrenome': 'yagami', 'idade': '14', 'sexo': 'masculino'}\n"
          ]
        }
      ]
    },
    {
      "cell_type": "code",
      "source": [
        "#delete, deleta dados no banco de dados\n",
        "banco_dados=requests.delete('https://bancodaddos-default-rtdb.firebaseio.com/-N24aksWgj0zpNrp4nM1.json')\n",
        "print(banco_dados)\n",
        "print(banco_dados.json())\n"
      ],
      "metadata": {
        "colab": {
          "base_uri": "https://localhost:8080/"
        },
        "id": "JxWGpww4obEv",
        "outputId": "43771fbd-4d4e-4755-e369-00c4bf354687"
      },
      "execution_count": 28,
      "outputs": [
        {
          "output_type": "stream",
          "name": "stdout",
          "text": [
            "<Response [200]>\n",
            "None\n"
          ]
        }
      ]
    }
  ]
}